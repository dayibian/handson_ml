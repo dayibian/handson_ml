{
 "cells": [
  {
   "cell_type": "code",
   "execution_count": 7,
   "metadata": {},
   "outputs": [],
   "source": [
    "from keras.layers import Input,Dense\n",
    "from keras.models import Model\n",
    "from keras.datasets import mnist\n",
    "import numpy as np"
   ]
  },
  {
   "cell_type": "code",
   "execution_count": 2,
   "metadata": {},
   "outputs": [],
   "source": [
    "encoding_dim = 32"
   ]
  },
  {
   "cell_type": "code",
   "execution_count": 3,
   "metadata": {},
   "outputs": [],
   "source": [
    "input_img = Input(shape=(784,))\n",
    "encoded = Dense(encoding_dim, activation='relu')(input_img)\n",
    "decoded = Dense(784, activation='sigmoid')(encoded)\n",
    "autoencoder = Model(input_img, decoded)"
   ]
  },
  {
   "cell_type": "code",
   "execution_count": 4,
   "metadata": {},
   "outputs": [],
   "source": [
    "encoder = Model(input_img, encoded)"
   ]
  },
  {
   "cell_type": "code",
   "execution_count": 5,
   "metadata": {},
   "outputs": [],
   "source": [
    "encoded_input = Input(shape=(encoding_dim,))\n",
    "decoder_layer = autoencoder.layers[-1]\n",
    "decoder = Model(encoded_input, decoder_layer(encoded_input))"
   ]
  },
  {
   "cell_type": "code",
   "execution_count": 6,
   "metadata": {},
   "outputs": [],
   "source": [
    "autoencoder.compile(optimizer='adadelta', loss='binary_crossentropy')"
   ]
  },
  {
   "cell_type": "code",
   "execution_count": 8,
   "metadata": {},
   "outputs": [
    {
     "name": "stdout",
     "output_type": "stream",
     "text": [
      "Downloading data from https://s3.amazonaws.com/img-datasets/mnist.npz\n",
      "11493376/11490434 [==============================] - 2s 0us/step\n"
     ]
    }
   ],
   "source": [
    "(x_train,_), (x_test,_) = mnist.load_data()"
   ]
  },
  {
   "cell_type": "code",
   "execution_count": 11,
   "metadata": {},
   "outputs": [],
   "source": [
    "x_train = x_train.astype('float32') / 255.\n",
    "x_test = x_test.astype('float32') / 255.\n",
    "x_train = x_train.reshape((len(x_train), np.prod(x_train.shape[1:])))\n",
    "x_test = x_test.reshape((len(x_test), np.prod(x_test.shape[1:])))"
   ]
  },
  {
   "cell_type": "code",
   "execution_count": 13,
   "metadata": {},
   "outputs": [
    {
     "name": "stdout",
     "output_type": "stream",
     "text": [
      "Train on 60000 samples, validate on 10000 samples\n",
      "Epoch 1/50\n",
      "60000/60000 [==============================] - 4s 73us/step - loss: 0.3590 - val_loss: 0.2709\n",
      "Epoch 2/50\n",
      "60000/60000 [==============================] - 3s 43us/step - loss: 0.2634 - val_loss: 0.2522\n",
      "Epoch 3/50\n",
      "60000/60000 [==============================] - 3s 43us/step - loss: 0.2415 - val_loss: 0.2291\n",
      "Epoch 4/50\n",
      "60000/60000 [==============================] - 3s 45us/step - loss: 0.2215 - val_loss: 0.2115\n",
      "Epoch 5/50\n",
      "60000/60000 [==============================] - 3s 44us/step - loss: 0.2064 - val_loss: 0.1988\n",
      "Epoch 6/50\n",
      "60000/60000 [==============================] - 3s 45us/step - loss: 0.1957 - val_loss: 0.1898\n",
      "Epoch 7/50\n",
      "60000/60000 [==============================] - 3s 45us/step - loss: 0.1875 - val_loss: 0.1823\n",
      "Epoch 8/50\n",
      "60000/60000 [==============================] - 3s 45us/step - loss: 0.1805 - val_loss: 0.1757\n",
      "Epoch 9/50\n",
      "60000/60000 [==============================] - 3s 43us/step - loss: 0.1743 - val_loss: 0.1702\n",
      "Epoch 10/50\n",
      "60000/60000 [==============================] - 3s 45us/step - loss: 0.1689 - val_loss: 0.1651\n",
      "Epoch 11/50\n",
      "60000/60000 [==============================] - 3s 47us/step - loss: 0.1643 - val_loss: 0.1608\n",
      "Epoch 12/50\n",
      "60000/60000 [==============================] - 3s 45us/step - loss: 0.1602 - val_loss: 0.1569\n",
      "Epoch 13/50\n",
      "60000/60000 [==============================] - 3s 45us/step - loss: 0.1565 - val_loss: 0.1532\n",
      "Epoch 14/50\n",
      "60000/60000 [==============================] - 3s 44us/step - loss: 0.1530 - val_loss: 0.1499\n",
      "Epoch 15/50\n",
      "60000/60000 [==============================] - 3s 44us/step - loss: 0.1497 - val_loss: 0.1466\n",
      "Epoch 16/50\n",
      "60000/60000 [==============================] - 3s 44us/step - loss: 0.1467 - val_loss: 0.1437\n",
      "Epoch 17/50\n",
      "60000/60000 [==============================] - 3s 46us/step - loss: 0.1439 - val_loss: 0.1410\n",
      "Epoch 18/50\n",
      "60000/60000 [==============================] - 3s 45us/step - loss: 0.1412 - val_loss: 0.1385\n",
      "Epoch 19/50\n",
      "60000/60000 [==============================] - 3s 46us/step - loss: 0.1388 - val_loss: 0.1361\n",
      "Epoch 20/50\n",
      "60000/60000 [==============================] - 3s 46us/step - loss: 0.1365 - val_loss: 0.1339\n",
      "Epoch 21/50\n",
      "60000/60000 [==============================] - 3s 47us/step - loss: 0.1344 - val_loss: 0.1317\n",
      "Epoch 22/50\n",
      "60000/60000 [==============================] - 3s 48us/step - loss: 0.1323 - val_loss: 0.1297\n",
      "Epoch 23/50\n",
      "60000/60000 [==============================] - 3s 47us/step - loss: 0.1304 - val_loss: 0.1279\n",
      "Epoch 24/50\n",
      "60000/60000 [==============================] - 3s 43us/step - loss: 0.1285 - val_loss: 0.1260\n",
      "Epoch 25/50\n",
      "60000/60000 [==============================] - 3s 44us/step - loss: 0.1267 - val_loss: 0.1242\n",
      "Epoch 26/50\n",
      "60000/60000 [==============================] - 3s 43us/step - loss: 0.1250 - val_loss: 0.1225\n",
      "Epoch 27/50\n",
      "60000/60000 [==============================] - 3s 46us/step - loss: 0.1233 - val_loss: 0.1209\n",
      "Epoch 28/50\n",
      "60000/60000 [==============================] - 3s 45us/step - loss: 0.1218 - val_loss: 0.1194\n",
      "Epoch 29/50\n",
      "60000/60000 [==============================] - 3s 47us/step - loss: 0.1203 - val_loss: 0.1180\n",
      "Epoch 30/50\n",
      "60000/60000 [==============================] - 3s 47us/step - loss: 0.1189 - val_loss: 0.1166\n",
      "Epoch 31/50\n",
      "60000/60000 [==============================] - 3s 44us/step - loss: 0.1176 - val_loss: 0.1154\n",
      "Epoch 32/50\n",
      "60000/60000 [==============================] - 3s 44us/step - loss: 0.1164 - val_loss: 0.1142\n",
      "Epoch 33/50\n",
      "60000/60000 [==============================] - 3s 47us/step - loss: 0.1153 - val_loss: 0.1131\n",
      "Epoch 34/50\n",
      "60000/60000 [==============================] - 3s 49us/step - loss: 0.1142 - val_loss: 0.1121\n",
      "Epoch 35/50\n",
      "60000/60000 [==============================] - 3s 44us/step - loss: 0.1132 - val_loss: 0.1111\n",
      "Epoch 36/50\n",
      "60000/60000 [==============================] - 3s 43us/step - loss: 0.1123 - val_loss: 0.1102\n",
      "Epoch 37/50\n",
      "60000/60000 [==============================] - 3s 45us/step - loss: 0.1114 - val_loss: 0.1094\n",
      "Epoch 38/50\n",
      "60000/60000 [==============================] - 3s 46us/step - loss: 0.1106 - val_loss: 0.1086\n",
      "Epoch 39/50\n",
      "60000/60000 [==============================] - 3s 46us/step - loss: 0.1099 - val_loss: 0.1079\n",
      "Epoch 40/50\n",
      "60000/60000 [==============================] - 3s 47us/step - loss: 0.1091 - val_loss: 0.1072\n",
      "Epoch 41/50\n",
      "60000/60000 [==============================] - 3s 46us/step - loss: 0.1085 - val_loss: 0.1065\n",
      "Epoch 42/50\n",
      "60000/60000 [==============================] - 3s 42us/step - loss: 0.1079 - val_loss: 0.1059\n",
      "Epoch 43/50\n",
      "60000/60000 [==============================] - 3s 45us/step - loss: 0.1073 - val_loss: 0.1054\n",
      "Epoch 44/50\n",
      "60000/60000 [==============================] - 3s 45us/step - loss: 0.1068 - val_loss: 0.1049\n",
      "Epoch 45/50\n",
      "60000/60000 [==============================] - 3s 45us/step - loss: 0.1063 - val_loss: 0.1044\n",
      "Epoch 46/50\n",
      "60000/60000 [==============================] - 3s 47us/step - loss: 0.1058 - val_loss: 0.1039\n",
      "Epoch 47/50\n",
      "60000/60000 [==============================] - 3s 46us/step - loss: 0.1053 - val_loss: 0.1035\n",
      "Epoch 48/50\n",
      "60000/60000 [==============================] - 3s 46us/step - loss: 0.1049 - val_loss: 0.1031\n",
      "Epoch 49/50\n",
      "60000/60000 [==============================] - 3s 46us/step - loss: 0.1045 - val_loss: 0.1027\n",
      "Epoch 50/50\n",
      "60000/60000 [==============================] - 3s 45us/step - loss: 0.1042 - val_loss: 0.1024\n"
     ]
    },
    {
     "data": {
      "text/plain": [
       "<keras.callbacks.History at 0x250edb38>"
      ]
     },
     "execution_count": 13,
     "metadata": {},
     "output_type": "execute_result"
    }
   ],
   "source": [
    "autoencoder.fit(x_train, x_train,\n",
    "                epochs=50,\n",
    "                batch_size=256,\n",
    "                shuffle=True,\n",
    "                validation_data=(x_test,x_test))"
   ]
  },
  {
   "cell_type": "markdown",
   "metadata": {},
   "source": [
    "## Convolutional autoencoder"
   ]
  },
  {
   "cell_type": "code",
   "execution_count": 2,
   "metadata": {},
   "outputs": [],
   "source": [
    "import keras\n",
    "from keras.layers import Input, Dense, Conv2D, MaxPool2D, UpSampling2D\n",
    "from keras.models import Model\n",
    "from keras import backend as K"
   ]
  },
  {
   "cell_type": "code",
   "execution_count": 3,
   "metadata": {},
   "outputs": [],
   "source": [
    "input_img = Input(shape=(28,28,1))"
   ]
  },
  {
   "cell_type": "code",
   "execution_count": 4,
   "metadata": {},
   "outputs": [],
   "source": [
    "x = Conv2D(16, (3,3), activation='relu', padding='same')(input_img)\n",
    "x = MaxPool2D((2,2), padding='same')(x)\n",
    "x = Conv2D(8, (3,3), activation='relu', padding='same')(x)\n",
    "x = MaxPool2D((2,2), padding='same')(x)\n",
    "x = Conv2D(8, (3,3), activation='relu', padding='same')(x)\n",
    "encoded = MaxPool2D((2,2), padding='same')(x)"
   ]
  },
  {
   "cell_type": "code",
   "execution_count": 5,
   "metadata": {},
   "outputs": [],
   "source": [
    "x = Conv2D(8, (3,3), activation='relu', padding='same')(encoded)\n",
    "x = UpSampling2D((2,2))(x)\n",
    "x = Conv2D(8, (3,3), activation='relu', padding='same')(x)\n",
    "x = UpSampling2D((2,2))(x)\n",
    "x = Conv2D(16, (3,3), activation='relu')(x)\n",
    "x = UpSampling2D((2,2))(x)\n",
    "decoded = Conv2D(1, (3,3), activation='sigmoid', padding='same')(x)"
   ]
  },
  {
   "cell_type": "code",
   "execution_count": 6,
   "metadata": {},
   "outputs": [],
   "source": [
    "autoencoder = Model(input_img, decoded)\n",
    "autoencoder.compile(optimizer='adadelta', loss='binary_crossentropy')"
   ]
  },
  {
   "cell_type": "code",
   "execution_count": 7,
   "metadata": {},
   "outputs": [],
   "source": [
    "from keras.datasets import mnist\n",
    "import numpy as np\n",
    "\n",
    "(x_train,_), (x_test,_) = mnist.load_data()\n",
    "x_train = x_train.astype('float32') / 255.\n",
    "x_test = x_test.astype('float32') / 255.\n",
    "x_train = x_train.reshape(len(x_train), 28, 28, 1)\n",
    "x_test = x_test.reshape(len(x_test), 28, 28, 1)"
   ]
  },
  {
   "cell_type": "code",
   "execution_count": 8,
   "metadata": {},
   "outputs": [
    {
     "data": {
      "text/plain": [
       "((60000, 28, 28, 1), (10000, 28, 28, 1))"
      ]
     },
     "execution_count": 8,
     "metadata": {},
     "output_type": "execute_result"
    }
   ],
   "source": [
    "x_train.shape, x_test.shape"
   ]
  },
  {
   "cell_type": "code",
   "execution_count": null,
   "metadata": {},
   "outputs": [
    {
     "name": "stdout",
     "output_type": "stream",
     "text": [
      "Train on 60000 samples, validate on 10000 samples\n",
      "Epoch 1/50\n",
      "60000/60000 [==============================] - 92s 2ms/step - loss: 0.2084 - val_loss: 0.1592\n",
      "Epoch 2/50\n",
      "60000/60000 [==============================] - 90s 2ms/step - loss: 0.1547 - val_loss: 0.1494\n",
      "Epoch 3/50\n",
      "60000/60000 [==============================] - 90s 1ms/step - loss: 0.1414 - val_loss: 0.1335\n",
      "Epoch 4/50\n",
      "60000/60000 [==============================] - 90s 1ms/step - loss: 0.1338 - val_loss: 0.1296\n",
      "Epoch 5/50\n",
      "60000/60000 [==============================] - 90s 1ms/step - loss: 0.1279 - val_loss: 0.1226\n",
      "Epoch 6/50\n",
      "60000/60000 [==============================] - 90s 1ms/step - loss: 0.1246 - val_loss: 0.1201\n",
      "Epoch 7/50\n",
      "60000/60000 [==============================] - 90s 1ms/step - loss: 0.1219 - val_loss: 0.1200\n",
      "Epoch 8/50\n",
      "60000/60000 [==============================] - 90s 2ms/step - loss: 0.1198 - val_loss: 0.1226\n",
      "Epoch 9/50\n",
      "60000/60000 [==============================] - 93s 2ms/step - loss: 0.1176 - val_loss: 0.1228\n",
      "Epoch 10/50\n",
      "60000/60000 [==============================] - 91s 2ms/step - loss: 0.1159 - val_loss: 0.1142\n",
      "Epoch 11/50\n",
      "60000/60000 [==============================] - 90s 2ms/step - loss: 0.1145 - val_loss: 0.1149\n",
      "Epoch 12/50\n",
      "60000/60000 [==============================] - 91s 2ms/step - loss: 0.1135 - val_loss: 0.1111\n",
      "Epoch 13/50\n",
      "60000/60000 [==============================] - 90s 2ms/step - loss: 0.1124 - val_loss: 0.1102\n",
      "Epoch 14/50\n",
      "60000/60000 [==============================] - 91s 2ms/step - loss: 0.1119 - val_loss: 0.1156\n",
      "Epoch 15/50\n",
      "60000/60000 [==============================] - 91s 2ms/step - loss: 0.1110 - val_loss: 0.1100\n",
      "Epoch 16/50\n",
      "60000/60000 [==============================] - 91s 2ms/step - loss: 0.1101 - val_loss: 0.1092\n",
      "Epoch 17/50\n",
      "60000/60000 [==============================] - 92s 2ms/step - loss: 0.1098 - val_loss: 0.1055\n",
      "Epoch 18/50\n",
      "60000/60000 [==============================] - 92s 2ms/step - loss: 0.1090 - val_loss: 0.1082\n",
      "Epoch 19/50\n",
      "60000/60000 [==============================] - 93s 2ms/step - loss: 0.1084 - val_loss: 0.1064\n",
      "Epoch 20/50\n",
      "60000/60000 [==============================] - 92s 2ms/step - loss: 0.1075 - val_loss: 0.1058\n",
      "Epoch 21/50\n",
      "60000/60000 [==============================] - 92s 2ms/step - loss: 0.1070 - val_loss: 0.1047\n",
      "Epoch 22/50\n",
      "60000/60000 [==============================] - 92s 2ms/step - loss: 0.1067 - val_loss: 0.1020\n",
      "Epoch 23/50\n",
      "59904/60000 [============================>.] - ETA: 0s - loss: 0.1062"
     ]
    }
   ],
   "source": [
    "from keras.callbacks import TensorBoard\n",
    "\n",
    "autoencoder.fit(x_train, x_train,\n",
    "                epochs=50,\n",
    "                batch_size=128,\n",
    "                shuffle=True,\n",
    "                validation_data=(x_test,x_test),\n",
    "                callbacks=[TensorBoard(log_dir='/tmp/autoencoder')])"
   ]
  },
  {
   "cell_type": "code",
   "execution_count": null,
   "metadata": {},
   "outputs": [],
   "source": []
  }
 ],
 "metadata": {
  "kernelspec": {
   "display_name": "Python 3",
   "language": "python",
   "name": "python3"
  },
  "language_info": {
   "codemirror_mode": {
    "name": "ipython",
    "version": 3
   },
   "file_extension": ".py",
   "mimetype": "text/x-python",
   "name": "python",
   "nbconvert_exporter": "python",
   "pygments_lexer": "ipython3",
   "version": "3.5.5"
  }
 },
 "nbformat": 4,
 "nbformat_minor": 2
}
